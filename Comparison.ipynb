{
 "cells": [
  {
   "cell_type": "markdown",
   "metadata": {},
   "source": [
    "# Comparing 2 Large Documents "
   ]
  },
  {
   "cell_type": "code",
   "execution_count": 1,
   "metadata": {},
   "outputs": [],
   "source": [
    "import nltk"
   ]
  },
  {
   "cell_type": "code",
   "execution_count": 2,
   "metadata": {},
   "outputs": [],
   "source": [
    "from urllib import request\n",
    "url1 = \"https://www.gutenberg.org/files/1342/1342-0.txt\"\n",
    "#pride and prejudice\n",
    "url2 = \"http://www.gutenberg.org/cache/epub/161/pg161.txt\"\n",
    "#sense and sensibility"
   ]
  },
  {
   "cell_type": "code",
   "execution_count": 3,
   "metadata": {},
   "outputs": [
    {
     "data": {
      "text/plain": [
       "'\\ufeff\\r\\nThe Project Gutenberg EBook of Pride and Prejudice, by Jane Austen\\r\\n\\r\\nThis eBook is for the use o'"
      ]
     },
     "execution_count": 3,
     "metadata": {},
     "output_type": "execute_result"
    }
   ],
   "source": [
    "response1 = request.urlopen(url1)\n",
    "raw1 = response1.read().decode('utf8')\n",
    "type(raw1)\n",
    "len(raw1)\n",
    "raw1[:100]"
   ]
  },
  {
   "cell_type": "code",
   "execution_count": 4,
   "metadata": {},
   "outputs": [
    {
     "data": {
      "text/plain": [
       "'\\ufeffThe Project Gutenberg EBook of Sense and Sensibility, by Jane Austen\\r\\n\\r\\nThis eBook is for the use o'"
      ]
     },
     "execution_count": 4,
     "metadata": {},
     "output_type": "execute_result"
    }
   ],
   "source": [
    "response2 = request.urlopen(url2)\n",
    "raw2 = response2.read().decode('utf8')\n",
    "type(raw2)\n",
    "len(raw2)\n",
    "raw2[:100]"
   ]
  },
  {
   "cell_type": "code",
   "execution_count": 5,
   "metadata": {},
   "outputs": [],
   "source": [
    "## count vectorizer\n",
    "from sklearn.feature_extraction.text import CountVectorizer"
   ]
  },
  {
   "cell_type": "code",
   "execution_count": 6,
   "metadata": {},
   "outputs": [
    {
     "data": {
      "text/plain": [
       "CountVectorizer(analyzer='word', binary=True, decode_error='strict',\n",
       "                dtype=<class 'numpy.int64'>, encoding='utf-8', input='content',\n",
       "                lowercase=True, max_df=1.0, max_features=None, min_df=1,\n",
       "                ngram_range=(1, 1), preprocessor=None, stop_words=None,\n",
       "                strip_accents=None, token_pattern='(?u)\\\\b\\\\w\\\\w+\\\\b',\n",
       "                tokenizer=None, vocabulary=None)"
      ]
     },
     "execution_count": 6,
     "metadata": {},
     "output_type": "execute_result"
    }
   ],
   "source": [
    "vec = CountVectorizer(binary = True)\n",
    "vec.fit([raw1])"
   ]
  },
  {
   "cell_type": "code",
   "execution_count": 7,
   "metadata": {},
   "outputs": [
    {
     "name": "stdout",
     "output_type": "stream",
     "text": [
      "[[0.82479039]]\n"
     ]
    }
   ],
   "source": [
    "from sklearn.metrics.pairwise import cosine_similarity\n",
    "similarity = cosine_similarity(vec.transform([raw1]),vec.transform([raw2]))\n",
    "print(similarity)"
   ]
  },
  {
   "cell_type": "code",
   "execution_count": 8,
   "metadata": {},
   "outputs": [],
   "source": [
    "from nltk.stem import PorterStemmer\n",
    "port = PorterStemmer()"
   ]
  },
  {
   "cell_type": "code",
   "execution_count": 9,
   "metadata": {},
   "outputs": [],
   "source": [
    "raw1_stem = [port.stem(token) for token in raw1.split(\" \")]\n",
    "raw1_stem = \" \".join(raw1_stem)"
   ]
  },
  {
   "cell_type": "code",
   "execution_count": 10,
   "metadata": {},
   "outputs": [
    {
     "data": {
      "text/plain": [
       "'      chapter 54\\r\\n\\r\\n         chapter 55\\r\\n\\r\\n         chapter 56\\r\\n\\r\\n         chapter 57\\r\\n\\r\\n         chapter 58\\r\\n\\r\\n         chapter 59\\r\\n\\r\\n         chapter 60\\r\\n\\r\\n         chapter 61\\r\\n\\r\\n\\r\\n\\r\\n\\r\\n      chapter 1\\r\\n\\r\\n      It is a truth univers acknowledged, that a singl man in\\r\\n      possess of a good fortune, must be in want of a wife.\\r\\n\\r\\n      howev littl known the feel or view of such a man may be\\r\\n      on hi first enter a neighbourhood, thi truth is so well\\r\\n      fix in the mind of the surround fami'"
      ]
     },
     "execution_count": 10,
     "metadata": {},
     "output_type": "execute_result"
    }
   ],
   "source": [
    "raw1_stem[2000:2500]"
   ]
  },
  {
   "cell_type": "code",
   "execution_count": 11,
   "metadata": {},
   "outputs": [
    {
     "data": {
      "text/plain": [
       "'nce.  the late owner of thi estat wa a single\\r\\nman, who live to a veri advanc age, and who for mani year of his\\r\\nlife, had a constant companion and housekeep in hi sister.  but her\\r\\ndeath, which happen ten year befor hi own, produc a great\\r\\nalter in hi home; for to suppli her loss, he invit and received\\r\\ninto hi hous the famili of hi nephew mr. henri dashwood, the legal\\r\\ninheritor of the norland estate, and the person to whom he intend to\\r\\nbequeath it.  In the societi of hi nephew and niece, and their\\r\\nchildren, the old gentleman\\' day were comfort spent.  his\\r\\nattach to them all increased.  the constant attent of mr. and\\r\\nmrs. henri dashwood to hi wishes, which proceed not mere from\\r\\ninterest, but from good of heart, gave him everi degre of solid\\r\\ncomfort which hi age could receive; and the cheer of the\\r\\nchildren ad a relish to hi existence.\\r\\n\\r\\nbi a former marriage, mr. henri dashwood had one son: by hi present\\r\\nlady, three daughters.  the son, a steadi respect young man, was\\r\\nampli provid for by the fortun of hi mother, which had been large,\\r\\nand half of which devolv on him on hi come of age.  By hi own\\r\\nmarriage, likewise, which happen soon afterwards, he ad to his\\r\\nwealth.  To him therefor the success to the norland estat wa not\\r\\nso realli import as to hi sisters; for their fortune, independent\\r\\nof what might aris to them from their father\\' inherit that\\r\\nproperty, could be but small.  their mother had nothing, and their\\r\\nfath onli seven thousand pound in hi own disposal; for the\\r\\nremain moieti of hi first wife\\' fortun wa also secur to her\\r\\nchild, and he had onli a life-interest in it.\\r\\n\\r\\nth old gentleman died: hi will wa read, and like almost everi other\\r\\nwill, gave as much disappoint as pleasure.  He wa neither so\\r\\nunjust, nor so ungrateful, as to leav hi estat from hi nephew;--but\\r\\nh left it to him on such term as destroy half the valu of the\\r\\nbequest.  mr. dashwood had wish for it more for the sake of hi wife\\r\\nand daughter than for himself or hi son;--but to hi son, and his\\r\\nson\\' son, a child of four year old, it wa secured, in such a way, as\\r\\nto leav to himself no power of provid for those who were most dear\\r\\nto him, and who most need a provis by ani charg on the estate, or\\r\\nbi ani sale of it valuabl woods.  the whole wa tie up for the\\r\\nbenefit of thi child, who, in occasion visit with hi father and\\r\\nmoth at norland, had so far gain on the affect of hi uncle, by\\r\\nsuch attract as are by no mean unusu in children of two or three\\r\\nyear old; an imperfect articulation, an earnest desir of have his\\r\\nown way, mani cun tricks, and a great deal of noise, as to outweigh\\r\\nal the valu of all the attent which, for years, he had received\\r\\nfrom hi niec and her daughters.  He meant not to be unkind, however,\\r\\nand, as a mark of hi affect for the three girls, he left them a\\r\\nthousand pound a-piece.\\r\\n\\r\\nmr. dashwood\\' disappoint was, at first, severe; but hi temper was\\r\\ncheer and sanguine; and he might reason hope to live mani years,\\r\\nand by live economically, lay by a consider sum from the produce\\r\\nof an estat alreadi large, and capabl of almost immediate\\r\\nimprovement.  but the fortune, which had been so tardi in coming, was\\r\\nhi onli one twelvemonth.  He surviv hi uncl no longer; and ten\\r\\nthousand pounds, includ the late legacies, wa all that remain for\\r\\nhi widow and daughters.\\r\\n\\r\\nhi son wa sent for as soon as hi danger wa known, and to him mr.\\r\\ndashwood recommended, with all the strength and urgenc which illness\\r\\ncould command, the interest of hi mother-in-law and sisters.\\r\\n\\r\\nmr. john dashwood had not the strong feel of the rest of the\\r\\nfamily; but he wa affect by a recommend of such a natur at\\r\\nsuch a time, and he promis to do everi thing in hi power to make\\r\\nthem comfortable.  hi father wa render easi by such an assurance,\\r\\nand mr. john dashwood had then leisur to consid how much there might\\r\\nprud be in hi power to do for them.\\r\\n\\r\\nh wa not an ill-dispos young man, unless to be rather cold hearted\\r\\nand rather selfish is to be ill-disposed: but he was, in general, well\\r\\nrespected; for he conduct himself with proprieti in the discharg of\\r\\nhi ordinari duties.  had he marri a more amiabl woman, he might\\r\\nhav been made still more respect than he was:--h might even have\\r\\nbeen made amiabl himself; for he wa veri young when he married, and\\r\\nveri fond of hi wife.  but mrs. john dashwood wa a strong caricature\\r\\nof himself;--mor narrow-mind and selfish.\\r\\n\\r\\nwhen he gave hi promis to hi father, he medit within himself to\\r\\nincreas the fortun of hi sister by the present of a thousand\\r\\npound a-piece.  He then realli thought himself equal to it.  the\\r\\nprospect of four thousand a-year, in addit to hi present income,\\r\\nbesid the remain half of hi own mother\\' fortune, warm his\\r\\nheart, and made him feel capabl of generosity.-- \"yes, he would give\\r\\nthem three thousand pounds: it would be liber and handsome! It would\\r\\nb enough to make them complet easy.  three thousand pounds! he\\r\\ncould spare so consider a sum with littl inconvenience.\"-- he\\r\\nthought of it all day long, and for mani day successively, and he did\\r\\nnot repent.\\r\\n\\r\\nno sooner wa hi father\\' funer over, than mrs. john dashwood,\\r\\nwithout send ani notic of her intent to her mother-in-law,\\r\\narriv with her child and their attendants.  No one could disput her\\r\\nright to come; the hous wa her husband\\' from the moment of his\\r\\nfather\\' decease; but the indelicaci of her conduct wa so much the\\r\\ngreater, and to a woman in mrs. dashwood\\' situation, with onli common\\r\\nfeelings, must have been highli unpleasing;--but in her mind there was\\r\\na sens of honor so keen, a generos so romantic, that ani offenc of\\r\\nth kind, by whomsoev given or received, wa to her a sourc of\\r\\nimmov disgust.  mrs. john dashwood had never been a favourit with\\r\\nani of her husband\\' family; but she had had no opportunity, till the\\r\\npresent, of shew them with how littl attent to the comfort of\\r\\noth peopl she could act when occas requir it.\\r\\n\\r\\nso acut did mrs. dashwood feel thi ungraci behaviour, and so\\r\\nearnestli did she despis her daughter-in-law for it, that, on the\\r\\narriv of the latter, she would have quit the hous for ever, had\\r\\nnot the entreati of her eldest girl induc her first to reflect on the\\r\\nproprieti of going, and her own tender love for all her three children\\r\\ndetermin her afterward to stay, and for their sake avoid a breach\\r\\nwith their brother.\\r\\n\\r\\nelinor, thi eldest daughter, whose advic wa so effectual, possessed\\r\\na strength of understanding, and cool of judgment, which qualified\\r\\nher, though onli nineteen, to be the counsellor of her mother, and\\r\\nen her frequent to counteract, to the advantag of them all,\\r\\nthat eager of mind in mrs. dashwood which must gener have led\\r\\nto imprudence.  she had an excel heart;--her disposit was\\r\\naffectionate, and her feel were strong; but she knew how to govern\\r\\nthem: it wa a knowledg which her mother had yet to learn; and which\\r\\non of her sister had resolv never to be taught.\\r\\n\\r\\nmarianne\\' abil were, in mani respects, quit equal to elinor\\'s.\\r\\nsh wa sensibl and clever; but eager in everything: her sorrows, her\\r\\njoys, could have no moderation.  she wa generous, amiable,\\r\\ninteresting: she wa everyth but prudent.  the resembl between\\r\\nh and her mother wa strikingli great.\\r\\n\\r\\nelinor saw, with concern, the excess of her sister\\' sensibility; but\\r\\nbi mrs. dashwood it wa valu and cherished.  they encourag each\\r\\noth now in the violenc of their affliction.  the agoni of grief\\r\\nwhich overpow them at first, wa voluntarili renewed, wa sought\\r\\nfor, wa creat again and again.  they gave themselv up wholli to\\r\\ntheir sorrow, seek increas of wretched in everi reflect that\\r\\ncould afford it, and resolv against ever admit consol in\\r\\nfuture.  elinor, too, wa deepli afflicted; but still she could\\r\\nstruggle, she could exert herself.  she could consult with her brother,\\r\\ncould receiv her sister-in-law on her arrival, and treat her with\\r\\nprop attention; and could strive to rous her mother to similar\\r\\nexertion, and encourag her to similar forbearance.\\r\\n\\r\\nmargaret, the other sister, wa a good-humored, well-dispos girl; but\\r\\na she had alreadi imbib a good deal of marianne\\' romance, without\\r\\nhav much of her sense, she did not, at thirteen, bid fair to equal\\r\\nh sister at a more advanc period of life.\\r\\n\\r\\n\\r\\n\\r\\nchapt 2\\r\\n\\r\\n\\r\\nmrs. john dashwood now instal herself mistress of norland; and her\\r\\nmoth and sisters-in-law were degrad to the condit of visitors.\\r\\na such, however, they were treat by her with quiet civility; and by\\r\\nher husband with as much kind as he could feel toward anybody\\r\\nbeyond himself, hi wife, and their child.  He realli press them,\\r\\nwith some earnestness, to consid norland as their home; and, as no\\r\\nplan appear so elig to mrs. dashwood as remain there till she\\r\\ncould accommod herself with a hous in the neighbourhood, his\\r\\ninvit wa accepted.\\r\\n\\r\\na continu in a place where everyth remind her of former\\r\\ndelight, wa exactli what suit her mind.  In season of cheerfulness,\\r\\nno temper could be more cheer than hers, or possess, in a greater\\r\\ndegree, that sanguin expect of happi which is happiness\\r\\nitself.  but in sorrow she must be equal carri away by her fancy,\\r\\nand as far beyond consol as in pleasur she wa beyond alloy.\\r\\n\\r\\nmrs. john dashwood did not at all approv of what her husband intended\\r\\nto do for hi sisters.  To take three thousand pound from the fortune\\r\\nof their dear littl boy would be impoverish him to the most\\r\\ndread degree.  she beg him to think again on the subject.  how\\r\\ncould he answer it to himself to rob hi '"
      ]
     },
     "execution_count": 11,
     "metadata": {},
     "output_type": "execute_result"
    }
   ],
   "source": [
    "raw2_stem = [port.stem(token) for token in raw2.split(\" \")]\n",
    "raw2_stem = \" \".join(raw2_stem)\n",
    "raw2_stem[1000:10500]"
   ]
  },
  {
   "cell_type": "code",
   "execution_count": 12,
   "metadata": {},
   "outputs": [],
   "source": [
    "vecstem = CountVectorizer(binary = True)"
   ]
  },
  {
   "cell_type": "code",
   "execution_count": 13,
   "metadata": {},
   "outputs": [
    {
     "data": {
      "text/plain": [
       "CountVectorizer(analyzer='word', binary=True, decode_error='strict',\n",
       "                dtype=<class 'numpy.int64'>, encoding='utf-8', input='content',\n",
       "                lowercase=True, max_df=1.0, max_features=None, min_df=1,\n",
       "                ngram_range=(1, 1), preprocessor=None, stop_words=None,\n",
       "                strip_accents=None, token_pattern='(?u)\\\\b\\\\w\\\\w+\\\\b',\n",
       "                tokenizer=None, vocabulary=None)"
      ]
     },
     "execution_count": 13,
     "metadata": {},
     "output_type": "execute_result"
    }
   ],
   "source": [
    "vecstem.fit([raw1_stem])"
   ]
  },
  {
   "cell_type": "code",
   "execution_count": 14,
   "metadata": {},
   "outputs": [
    {
     "name": "stdout",
     "output_type": "stream",
     "text": [
      "[[0.8084943]]\n"
     ]
    }
   ],
   "source": [
    "similaritystem = cosine_similarity(vecstem.transform([raw1_stem]),vecstem.transform([raw2_stem]))\n",
    "print(similaritystem)"
   ]
  },
  {
   "cell_type": "markdown",
   "metadata": {},
   "source": [
    "Similarity actually decreased. Trying with Lancaster Stemmer"
   ]
  },
  {
   "cell_type": "code",
   "execution_count": 15,
   "metadata": {},
   "outputs": [],
   "source": [
    "from nltk.stem import LancasterStemmer\n",
    "lanc = LancasterStemmer()"
   ]
  },
  {
   "cell_type": "code",
   "execution_count": 16,
   "metadata": {},
   "outputs": [
    {
     "data": {
      "text/plain": [
       "'t 59\\r\\n\\r\\n         chapt 60\\r\\n\\r\\n         chapt 61\\r\\n\\r\\n\\r\\n\\r\\n\\r\\n      chapt 1\\r\\n\\r\\n      it is a tru univers acknowledged, that a singl man in\\r\\n      possess of a good fortune, must be in want of a wife.\\r\\n\\r\\n      howev littl known the feel or view of such a man may be\\r\\n      on his first ent a neighbourhood, thi tru is so well\\r\\n      fix in the mind of the surround families, that he is\\r\\n      consid the right property of som on or oth of their\\r\\n      daughters.\\r\\n\\r\\n      “my dear mr. bennet,” said his lady'"
      ]
     },
     "execution_count": 16,
     "metadata": {},
     "output_type": "execute_result"
    }
   ],
   "source": [
    "raw1_l = [lanc.stem(token) for token in raw1.split(\" \")]\n",
    "raw1_l = \" \".join(raw1_l)\n",
    "raw1_l[2000:2500]"
   ]
  },
  {
   "cell_type": "code",
   "execution_count": 17,
   "metadata": {},
   "outputs": [
    {
     "data": {
      "text/plain": [
       "' did not at al approv of what her husband intended\\r\\nto do for his sisters.  to tak three thousand pound from the fortune\\r\\nof their dear littl boy would be impov him to the most\\r\\ndreadful degree.  she beg him to think again on the subject.  how\\r\\ncould he answ it to himself to rob his child, and his on child too,\\r\\nof so larg a sum?  and what poss claim could the miss dashwoods,\\r\\nwho wer rel to him on by half blood, which she consid as no\\r\\nrelationship at all, hav on his generos to so larg an amoun'"
      ]
     },
     "execution_count": 17,
     "metadata": {},
     "output_type": "execute_result"
    }
   ],
   "source": [
    "raw2_l = [lanc.stem(token) for token in raw2.split(\" \")]\n",
    "raw2_l = \" \".join(raw2_l)\n",
    "raw2_l[10000:10500]"
   ]
  },
  {
   "cell_type": "code",
   "execution_count": 18,
   "metadata": {},
   "outputs": [
    {
     "data": {
      "text/plain": [
       "CountVectorizer(analyzer='word', binary=True, decode_error='strict',\n",
       "                dtype=<class 'numpy.int64'>, encoding='utf-8', input='content',\n",
       "                lowercase=True, max_df=1.0, max_features=None, min_df=1,\n",
       "                ngram_range=(1, 1), preprocessor=None, stop_words=None,\n",
       "                strip_accents=None, token_pattern='(?u)\\\\b\\\\w\\\\w+\\\\b',\n",
       "                tokenizer=None, vocabulary=None)"
      ]
     },
     "execution_count": 18,
     "metadata": {},
     "output_type": "execute_result"
    }
   ],
   "source": [
    "veclan = CountVectorizer(binary = True)\n",
    "veclan.fit([raw1_l])"
   ]
  },
  {
   "cell_type": "code",
   "execution_count": 19,
   "metadata": {},
   "outputs": [
    {
     "name": "stdout",
     "output_type": "stream",
     "text": [
      "[[0.82471029]]\n"
     ]
    }
   ],
   "source": [
    "from sklearn.metrics.pairwise import cosine_similarity\n",
    "similaritylan = cosine_similarity(veclan.transform([raw1_l]),veclan.transform([raw2_l]))\n",
    "print(similaritylan)"
   ]
  },
  {
   "cell_type": "markdown",
   "metadata": {},
   "source": [
    "Similarity is still lower than without stemming which is unexpected"
   ]
  }
 ],
 "metadata": {
  "kernelspec": {
   "display_name": "Python 3",
   "language": "python",
   "name": "python3"
  },
  "language_info": {
   "codemirror_mode": {
    "name": "ipython",
    "version": 3
   },
   "file_extension": ".py",
   "mimetype": "text/x-python",
   "name": "python",
   "nbconvert_exporter": "python",
   "pygments_lexer": "ipython3",
   "version": "3.7.6"
  }
 },
 "nbformat": 4,
 "nbformat_minor": 4
}
